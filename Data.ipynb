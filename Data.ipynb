{
 "cells": [
  {
   "cell_type": "markdown",
   "metadata": {},
   "source": [
    "## Finding the dataset"
   ]
  },
  {
   "cell_type": "markdown",
   "metadata": {},
   "source": [
    "For the comparision the neigbourhood we needed the dataset which includes names and locations of neigbourhoods. In this way we could use the cordinates to get venues from Foursquare. After a long search on internet I found the dataset from this [link](https://www.corra.com.au/australian-postcode-location-data/)"
   ]
  },
  {
   "cell_type": "markdown",
   "metadata": {},
   "source": [
    "The dataset contains all australian post codes, suburbs, and cordinate informations. With using the dataset I could extract the suburbs in state of Victoria and after that I could have the Melbourne neigbourhoods.In order to getting near by venues and their clasification the cordinates for all neigbhbours was needed."
   ]
  }
 ],
 "metadata": {
  "kernelspec": {
   "display_name": "Python 3.6",
   "language": "python",
   "name": "python3"
  },
  "language_info": {
   "codemirror_mode": {
    "name": "ipython",
    "version": 3
   },
   "file_extension": ".py",
   "mimetype": "text/x-python",
   "name": "python",
   "nbconvert_exporter": "python",
   "pygments_lexer": "ipython3",
   "version": "3.6.9"
  }
 },
 "nbformat": 4,
 "nbformat_minor": 1
}
