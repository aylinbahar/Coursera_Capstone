{
 "cells": [
  {
   "cell_type": "markdown",
   "metadata": {
    "collapsed": true
   },
   "source": [
    "##  Introduction/Business Problem"
   ]
  },
  {
   "cell_type": "markdown",
   "metadata": {},
   "source": [
    "### Marketting research a restaurant"
   ]
  },
  {
   "cell_type": "markdown",
   "metadata": {},
   "source": [
    " *In this project the idea is finding the best place to open a new restaurant in Melbourne. This is a part of the marketting research. The concept of the restaurant that we are planning to open is health. Menu will be composed of healthy foods like soup, salads, veggies and grilled meat. The target group will be the people, who are taking care of their health. Therefore, we will focus on the neighborhoods which has the most sports complex. This is where we need a data analysis.\n",
    " This restaurant will be runned by 3 partners and according to the result of the data analysis, their investments may change. Thus, the auidience of this data science problem are the partners of the restaurant.*"
   ]
  }
 ],
 "metadata": {
  "kernelspec": {
   "display_name": "Python 3.6",
   "language": "python",
   "name": "python3"
  },
  "language_info": {
   "codemirror_mode": {
    "name": "ipython",
    "version": 3
   },
   "file_extension": ".py",
   "mimetype": "text/x-python",
   "name": "python",
   "nbconvert_exporter": "python",
   "pygments_lexer": "ipython3",
   "version": "3.6.9"
  }
 },
 "nbformat": 4,
 "nbformat_minor": 1
}
